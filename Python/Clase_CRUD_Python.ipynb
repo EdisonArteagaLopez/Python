{
 "cells": [
  {
   "cell_type": "markdown",
   "id": "505ba0ca",
   "metadata": {},
   "source": [
    "# Clase Interactiva: Operaciones CRUD en Python con Listas y Diccionarios\n",
    "---\n",
    "\n",
    "## 📌 Objetivo de la clase\n",
    "\n",
    "Aprender a construir y manipular estructuras de datos básicas (listas y diccionarios) aplicando las operaciones CRUD: **Crear**, **Leer**, **Actualizar** y **Eliminar**. Al final, implementaremos un sistema CRUD simple de gestión de usuarios y productos.\n",
    "\n",
    "---\n",
    "\n",
    "## 🧠 ¿Qué es CRUD?\n",
    "\n",
    "CRUD es un acrónimo que representa las **4 operaciones básicas** que se pueden realizar sobre cualquier tipo de información en un sistema informático:\n",
    "\n",
    "- **C**: Create (Crear)  \n",
    "- **R**: Read (Leer o Consultar)  \n",
    "- **U**: Update (Actualizar)  \n",
    "- **D**: Delete (Eliminar)\n",
    "\n",
    "Estas operaciones son fundamentales en bases de datos, aplicaciones web, APIs y casi cualquier sistema que maneje información.\n",
    "\n",
    "---"
   ]
  },
  {
   "cell_type": "code",
   "execution_count": null,
   "id": "392ad7ef",
   "metadata": {},
   "outputs": [],
   "source": [
    "# 👩‍🔬 ¡Empecemos! Vamos a definir nuestras estructuras de datos\n",
    "\n",
    "# Lista de usuarios (cada usuario es un diccionario)\n",
    "usuarios = []\n",
    "\n",
    "# Lista de productos (cada producto es un diccionario)\n",
    "productos = []\n",
    "\n",
    "print(\"Estructura inicial creada. ¡Ya podemos comenzar con las operaciones CRUD!\")"
   ]
  },
  {
   "cell_type": "markdown",
   "id": "f1b54bab",
   "metadata": {},
   "source": [
    "## 🟢 1. Crear (Create)\n",
    "\n",
    "### Crear usuarios y productos"
   ]
  },
  {
   "cell_type": "code",
   "execution_count": null,
   "id": "5f4fd538",
   "metadata": {},
   "outputs": [],
   "source": [
    "# Función para crear un nuevo usuario\n",
    "def crear_usuario(nombre, correo):\n",
    "    usuario = {\"nombre\": nombre, \"correo\": correo}\n",
    "    usuarios.append(usuario)\n",
    "    print(\"✅ Usuario creado:\", usuario)\n",
    "\n",
    "# Crear un nuevo producto\n",
    "def crear_producto(nombre, precio):\n",
    "    producto = {\"nombre\": nombre, \"precio\": precio}\n",
    "    productos.append(producto)\n",
    "    print(\"✅ Producto creado:\", producto)\n",
    "\n",
    "# Ejemplo\n",
    "crear_usuario(\"Ana\", \"ana@example.com\")\n",
    "crear_producto(\"Laptop\", 1500)"
   ]
  },
  {
   "cell_type": "code",
   "execution_count": null,
   "id": "0eb556f0",
   "metadata": {},
   "outputs": [],
   "source": [
    "# 🧪 Actividad 1: Crea dos usuarios y dos productos nuevos\n",
    "# Puedes cambiar los valores\n",
    "\n",
    "crear_usuario(\"Juan\", \"juan@correo.com\")\n",
    "crear_producto(\"Teclado\", 120)"
   ]
  },
  {
   "cell_type": "markdown",
   "id": "95552ba6",
   "metadata": {},
   "source": [
    "## 🔵 2. Leer (Read)\n",
    "\n",
    "### Leer o visualizar los datos"
   ]
  },
  {
   "cell_type": "code",
   "execution_count": null,
   "id": "10536d85",
   "metadata": {},
   "outputs": [],
   "source": [
    "# Función para mostrar todos los usuarios\n",
    "def mostrar_usuarios():\n",
    "    print(\"👥 Lista de usuarios:\")\n",
    "    for idx, u in enumerate(usuarios):\n",
    "        print(f\"{idx}. Nombre: {u['nombre']}, Correo: {u['correo']}\")\n",
    "\n",
    "# Función para mostrar todos los productos\n",
    "def mostrar_productos():\n",
    "    print(\"📦 Lista de productos:\")\n",
    "    for idx, p in enumerate(productos):\n",
    "        print(f\"{idx}. Producto: {p['nombre']}, Precio: {p['precio']}\")\n",
    "\n",
    "# Llamamos las funciones\n",
    "mostrar_usuarios()\n",
    "mostrar_productos()"
   ]
  },
  {
   "cell_type": "code",
   "execution_count": null,
   "id": "006e196b",
   "metadata": {},
   "outputs": [],
   "source": [
    "# 🧪 Actividad 2: Agrega un usuario y un producto, luego muestra la lista\n",
    "\n",
    "# Tu código aquí abajo 👇\n",
    "crear_usuario(\"Carlos\", \"carlos@correo.com\")\n",
    "crear_producto(\"Mouse\", 80)\n",
    "mostrar_usuarios()\n",
    "mostrar_productos()"
   ]
  },
  {
   "cell_type": "markdown",
   "id": "abe5dda6",
   "metadata": {},
   "source": [
    "## 🟠 3. Actualizar (Update)\n",
    "\n",
    "### Actualizar datos existentes"
   ]
  },
  {
   "cell_type": "code",
   "execution_count": null,
   "id": "cd61ef08",
   "metadata": {},
   "outputs": [],
   "source": [
    "# Actualizar un usuario por índice\n",
    "def actualizar_usuario(indice, nuevo_nombre, nuevo_correo):\n",
    "    if 0 <= indice < len(usuarios):\n",
    "        usuarios[indice][\"nombre\"] = nuevo_nombre\n",
    "        usuarios[indice][\"correo\"] = nuevo_correo\n",
    "        print(\"✅ Usuario actualizado.\")\n",
    "    else:\n",
    "        print(\"❌ Índice inválido.\")\n",
    "\n",
    "# Actualizar un producto por índice\n",
    "def actualizar_producto(indice, nuevo_nombre, nuevo_precio):\n",
    "    if 0 <= indice < len(productos):\n",
    "        productos[indice][\"nombre\"] = nuevo_nombre\n",
    "        productos[indice][\"precio\"] = nuevo_precio\n",
    "        print(\"✅ Producto actualizado.\")\n",
    "    else:\n",
    "        print(\"❌ Índice inválido.\")\n",
    "\n",
    "# Ejemplo\n",
    "actualizar_usuario(0, \"Ana María\", \"ana.maria@example.com\")\n",
    "mostrar_usuarios()"
   ]
  },
  {
   "cell_type": "code",
   "execution_count": null,
   "id": "9523ecac",
   "metadata": {},
   "outputs": [],
   "source": [
    "# 🧪 Actividad 3: Actualiza el nombre del primer producto y cámbiale el precio\n",
    "\n",
    "# Tu código aquí 👇\n",
    "actualizar_producto(0, \"Laptop Pro\", 1800)\n",
    "mostrar_productos()"
   ]
  },
  {
   "cell_type": "markdown",
   "id": "8057f84a",
   "metadata": {},
   "source": [
    "## 🔴 4. Eliminar (Delete)\n",
    "\n",
    "### Eliminar elementos de la lista"
   ]
  },
  {
   "cell_type": "code",
   "execution_count": null,
   "id": "ea1c93b2",
   "metadata": {},
   "outputs": [],
   "source": [
    "# Eliminar usuario por índice\n",
    "def eliminar_usuario(indice):\n",
    "    if 0 <= indice < len(usuarios):\n",
    "        eliminado = usuarios.pop(indice)\n",
    "        print(\"🗑️ Usuario eliminado:\", eliminado)\n",
    "    else:\n",
    "        print(\"❌ Índice inválido.\")\n",
    "\n",
    "# Eliminar producto por índice\n",
    "def eliminar_producto(indice):\n",
    "    if 0 <= indice < len(productos):\n",
    "        eliminado = productos.pop(indice)\n",
    "        print(\"🗑️ Producto eliminado:\", eliminado)\n",
    "    else:\n",
    "        print(\"❌ Índice inválido.\")\n",
    "\n",
    "# Ejemplo\n",
    "eliminar_usuario(1)\n",
    "mostrar_usuarios()"
   ]
  },
  {
   "cell_type": "code",
   "execution_count": null,
   "id": "7ade8fd4",
   "metadata": {},
   "outputs": [],
   "source": [
    "# 🧪 Actividad 4: Elimina el segundo producto de la lista\n",
    "\n",
    "# Tu código aquí 👇\n",
    "eliminar_producto(1)\n",
    "mostrar_productos()"
   ]
  },
  {
   "cell_type": "markdown",
   "id": "a21b6386",
   "metadata": {},
   "source": [
    "## 🧩 Ejercicio final: Sistema CRUD de Usuarios\n",
    "\n",
    "### 🎯 Crea un pequeño sistema interactivo CRUD para usuarios"
   ]
  },
  {
   "cell_type": "code",
   "execution_count": null,
   "id": "bcca4b1b",
   "metadata": {},
   "outputs": [],
   "source": [
    "def menu():\n",
    "    while True:\n",
    "        print(\"\\n--- Menú CRUD de Usuarios ---\")\n",
    "        print(\"1. Crear usuario\")\n",
    "        print(\"2. Mostrar usuarios\")\n",
    "        print(\"3. Actualizar usuario\")\n",
    "        print(\"4. Eliminar usuario\")\n",
    "        print(\"5. Salir\")\n",
    "        opcion = input(\"Selecciona una opción (1-5): \")\n",
    "\n",
    "        if opcion == \"1\":\n",
    "            nombre = input(\"Nombre: \")\n",
    "            correo = input(\"Correo: \")\n",
    "            crear_usuario(nombre, correo)\n",
    "        elif opcion == \"2\":\n",
    "            mostrar_usuarios()\n",
    "        elif opcion == \"3\":\n",
    "            indice = int(input(\"Índice del usuario a actualizar: \"))\n",
    "            nuevo_nombre = input(\"Nuevo nombre: \")\n",
    "            nuevo_correo = input(\"Nuevo correo: \")\n",
    "            actualizar_usuario(indice, nuevo_nombre, nuevo_correo)\n",
    "        elif opcion == \"4\":\n",
    "            indice = int(input(\"Índice del usuario a eliminar: \"))\n",
    "            eliminar_usuario(indice)\n",
    "        elif opcion == \"5\":\n",
    "            print(\"👋 Fin del programa.\")\n",
    "            break\n",
    "        else:\n",
    "            print(\"❌ Opción inválida. Intenta de nuevo.\")\n",
    "\n",
    "# Ejecuta el menú\n",
    "menu()"
   ]
  },
  {
   "cell_type": "markdown",
   "id": "8c029787",
   "metadata": {},
   "source": [
    "## ✅ Repaso\n",
    "\n",
    "Responde estas preguntas mentalmente o en tu cuaderno:\n",
    "\n",
    "1. ¿Qué significa CRUD?\n",
    "2. ¿Qué estructuras de datos usamos para representar usuarios y productos?\n",
    "3. ¿Cómo se agrega un nuevo elemento a una lista?\n",
    "4. ¿Cómo se accede y modifica un valor dentro de un diccionario?\n",
    "5. ¿Qué pasa si intentas acceder a un índice que no existe?\n",
    "\n",
    "---\n",
    "\n",
    "## 🧭 ¿Y ahora qué?\n",
    "\n",
    "Para seguir practicando:\n",
    "\n",
    "- Crea un sistema CRUD para una biblioteca (libros con título, autor y año).\n",
    "- Intenta guardar los datos en un archivo `.json` (más avanzado).\n",
    "- Aprende sobre listas de diccionarios anidadas o clases (POO en Python).\n",
    "\n",
    "¡Buen trabajo! 👏 Sigue practicando para convertirte en experta o experto en programación 🧠✨"
   ]
  }
 ],
 "metadata": {
  "language_info": {
   "name": "python"
  }
 },
 "nbformat": 4,
 "nbformat_minor": 5
}
