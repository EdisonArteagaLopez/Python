{
 "cells": [
  {
   "cell_type": "markdown",
   "id": "70ef7891",
   "metadata": {},
   "source": [
    "# Ciclos en Python: Fundamentos y Aplicaciones\n",
    "\n",
    "En programación, los ciclos (también llamados bucles o *loops*) permiten ejecutar un bloque de código de forma repetitiva bajo ciertas condiciones. Son esenciales para automatizar tareas, recorrer estructuras de datos, validar formularios y desarrollar dinámicas interactivas como juegos o simulaciones.\n",
    "\n",
    "En este cuaderno exploraremos los dos tipos principales de ciclos en Python:\n",
    "\n",
    "- `for`\n",
    "- `while`\n",
    "\n",
    "Adicionalmente, estudiaremos las instrucciones `break` y `continue`, las cuales permiten controlar el flujo de los ciclos.\n",
    "\n",
    "Este cuaderno está diseñado para estudiantes con conocimientos básicos en programación. Se incluyen ejemplos prácticos y ejercicios con distintos niveles de dificultad.\n"
   ]
  },
  {
   "cell_type": "markdown",
   "id": "abe0ce6c",
   "metadata": {},
   "source": [
    "## Ciclo `for`\n",
    "\n",
    "El ciclo `for` se utiliza para recorrer elementos de una secuencia, como listas, cadenas de texto o rangos numéricos."
   ]
  },
  {
   "cell_type": "code",
   "execution_count": 2,
   "id": "09af191b",
   "metadata": {},
   "outputs": [
    {
     "name": "stdout",
     "output_type": "stream",
     "text": [
      "Hola, Ana\n",
      "Hola, Luis\n",
      "Hola, Carlos\n"
     ]
    }
   ],
   "source": [
    "# Ejemplo 1: Recorrido de una lista\n",
    "nombres = [\"Ana\", \"Luis\", \"Carlos\"]\n",
    "for nombre in nombres:\n",
    "    print(\"Hola,\", nombre)"
   ]
  },
  {
   "cell_type": "code",
   "execution_count": 3,
   "id": "627aad11",
   "metadata": {},
   "outputs": [
    {
     "name": "stdout",
     "output_type": "stream",
     "text": [
      "Iteración: 0\n",
      "Iteración: 1\n",
      "Iteración: 2\n",
      "Iteración: 3\n",
      "Iteración: 4\n"
     ]
    }
   ],
   "source": [
    "# Ejemplo 2: Uso de range()\n",
    "for i in range(5):\n",
    "    print(\"Iteración:\", i)"
   ]
  },
  {
   "cell_type": "code",
   "execution_count": 4,
   "id": "f2978f4e",
   "metadata": {},
   "outputs": [
    {
     "name": "stdout",
     "output_type": "stream",
     "text": [
      "Letra: P\n",
      "Letra: y\n",
      "Letra: t\n",
      "Letra: h\n",
      "Letra: o\n",
      "Letra: n\n"
     ]
    }
   ],
   "source": [
    "# Ejemplo adicional: Recorrido de una cadena\n",
    "palabra = \"Python\"\n",
    "for letra in palabra:\n",
    "    print(\"Letra:\", letra)"
   ]
  },
  {
   "cell_type": "markdown",
   "id": "c39fe405",
   "metadata": {},
   "source": [
    "## Ciclo `while`\n",
    "\n",
    "El ciclo `while` repite un bloque de código mientras una condición se mantenga verdadera."
   ]
  },
  {
   "cell_type": "code",
   "execution_count": 5,
   "id": "90136841",
   "metadata": {},
   "outputs": [
    {
     "name": "stdout",
     "output_type": "stream",
     "text": [
      "Contador: 0\n",
      "Contador: 1\n",
      "Contador: 2\n",
      "Contador: 3\n",
      "Contador: 4\n"
     ]
    }
   ],
   "source": [
    "# Ejemplo 3: Contador con while\n",
    "contador = 0\n",
    "while contador < 5:\n",
    "    print(\"Contador:\", contador)\n",
    "    contador += 1"
   ]
  },
  {
   "cell_type": "code",
   "execution_count": 6,
   "id": "46da6e27",
   "metadata": {},
   "outputs": [
    {
     "name": "stdout",
     "output_type": "stream",
     "text": [
      "Gracias por confirmar.\n"
     ]
    }
   ],
   "source": [
    "# Ejemplo 4: Validación de entrada\n",
    "respuesta = \"\"\n",
    "while respuesta != \"sí\":\n",
    "    respuesta = input(\"¿Desea continuar? (sí/no): \").lower()\n",
    "print(\"Gracias por confirmar.\")"
   ]
  },
  {
   "cell_type": "code",
   "execution_count": null,
   "id": "d7cf6510",
   "metadata": {},
   "outputs": [],
   "source": [
    "# Ejemplo 4.1 (actualizado): Validación de entrada con opción \"no\"\n",
    "while True:\n",
    "    respuesta = input(\"¿Desea continuar? (sí/no): \").strip().lower()\n",
    "    if respuesta == \"sí\":\n",
    "        print(\"Gracias por confirmar.\")\n",
    "        break\n",
    "    elif respuesta == \"no\":\n",
    "        print(\"Operación cancelada por el usuario.\")\n",
    "        break\n",
    "    else:\n",
    "        print(\"Respuesta no válida. Por favor escriba 'sí' o 'no'.\")"
   ]
  },
  {
   "cell_type": "code",
   "execution_count": 7,
   "id": "f4940fa0",
   "metadata": {},
   "outputs": [
    {
     "name": "stdout",
     "output_type": "stream",
     "text": [
      "Cuenta regresiva: 5\n",
      "Cuenta regresiva: 4\n",
      "Cuenta regresiva: 3\n",
      "Cuenta regresiva: 2\n",
      "Cuenta regresiva: 1\n"
     ]
    }
   ],
   "source": [
    "# Ejemplo adicional: Contador descendente\n",
    "numero = 5\n",
    "while numero > 0:\n",
    "    print(\"Cuenta regresiva:\", numero)\n",
    "    numero -= 1"
   ]
  },
  {
   "cell_type": "markdown",
   "id": "6e36c910",
   "metadata": {},
   "source": [
    "## Instrucciones `break` y `continue`\n",
    "\n",
    "Estas instrucciones permiten modificar el flujo de un ciclo:"
   ]
  },
  {
   "cell_type": "code",
   "execution_count": 8,
   "id": "270e5f6a",
   "metadata": {},
   "outputs": [
    {
     "name": "stdout",
     "output_type": "stream",
     "text": [
      "Número: 0\n",
      "Número: 1\n",
      "Número: 2\n",
      "Número: 3\n",
      "Número: 4\n"
     ]
    }
   ],
   "source": [
    "# Ejemplo 5: Uso de break\n",
    "for numero in range(10):\n",
    "    if numero == 5:\n",
    "        break\n",
    "    print(\"Número:\", numero)"
   ]
  },
  {
   "cell_type": "code",
   "execution_count": 9,
   "id": "78de9e9d",
   "metadata": {},
   "outputs": [
    {
     "name": "stdout",
     "output_type": "stream",
     "text": [
      "Número: 0\n",
      "Número: 1\n",
      "Número: 3\n",
      "Número: 4\n"
     ]
    }
   ],
   "source": [
    "# Ejemplo 6: Uso de continue\n",
    "for numero in range(5):\n",
    "    if numero == 2:\n",
    "        continue\n",
    "    print(\"Número:\", numero)"
   ]
  },
  {
   "cell_type": "code",
   "execution_count": null,
   "id": "fd56fc91",
   "metadata": {},
   "outputs": [
    {
     "name": "stdout",
     "output_type": "stream",
     "text": [
      "Acceso concedido\n"
     ]
    }
   ],
   "source": [
    "# Ejemplo adicional: Uso de break en un ciclo while\n",
    "intentos = 0\n",
    "while True:\n",
    "    clave = input(\"Ingrese la clave secreta: \")\n",
    "    intentos += 1\n",
    "    if clave == \"123\":\n",
    "        print(\"Acceso concedido\")\n",
    "        break\n",
    "    elif intentos >= 3:\n",
    "        print(\"Demasiados intentos\")\n",
    "        break"
   ]
  },
  {
   "cell_type": "markdown",
   "id": "828edeae",
   "metadata": {},
   "source": [
    "## Ejercicios de práctica\n",
    "\n",
    "A continuación, se presentan ejercicios para aplicar los conceptos aprendidos. Es recomendable resolverlos individualmente o en parejas.\n"
   ]
  },
  {
   "cell_type": "code",
   "execution_count": 11,
   "id": "bdad4bac",
   "metadata": {},
   "outputs": [],
   "source": [
    "# Ejercicio 1 (Básico):\n",
    "# Imprima los números del 1 al 10 usando un ciclo for."
   ]
  },
  {
   "cell_type": "code",
   "execution_count": 12,
   "id": "cad85408",
   "metadata": {},
   "outputs": [],
   "source": [
    "# Ejercicio 2 (Intermedio):\n",
    "# Simule un formulario que solicite al usuario una contraseña hasta que introduzca la correcta (\"python123\")."
   ]
  },
  {
   "cell_type": "code",
   "execution_count": 13,
   "id": "9c045915",
   "metadata": {},
   "outputs": [],
   "source": [
    "# Ejercicio 3 (Intermedio):\n",
    "# Dado un rango de 1 a 20, imprima solamente los números impares"
   ]
  },
  {
   "cell_type": "code",
   "execution_count": 14,
   "id": "2215ebef",
   "metadata": {},
   "outputs": [
    {
     "name": "stdout",
     "output_type": "stream",
     "text": [
      "Muy bajo.\n",
      "Muy bajo.\n",
      "Muy bajo.\n",
      "Muy bajo.\n",
      "Muy bajo.\n",
      "¡Correcto! Lo lograste en 6 intentos.\n"
     ]
    }
   ],
   "source": [
    "# Ejercicio 4 (Desafío tipo juego):\n",
    "# Juego: Adivina el número.\n",
    "import random\n",
    "\n",
    "numero_secreto = random.randint(1, 10)\n",
    "intento = 0\n",
    "adivinanza = -1\n",
    "\n",
    "while adivinanza != numero_secreto:\n",
    "    adivinanza = int(input(\"Adivina el número (entre 1 y 10): \"))\n",
    "    intento += 1\n",
    "    if adivinanza < numero_secreto:\n",
    "        print(\"Muy bajo.\")\n",
    "    elif adivinanza > numero_secreto:\n",
    "        print(\"Muy alto.\")\n",
    "\n",
    "print(f\"¡Correcto! Lo lograste en {intento} intentos.\")"
   ]
  },
  {
   "cell_type": "markdown",
   "id": "ff694823",
   "metadata": {},
   "source": [
    "## Evaluación práctica\n",
    "\n",
    "Complete los siguientes ejercicios sin ejemplos previos. Puede usar cualquier tipo de ciclo.\n",
    "\n",
    "1. Solicite al usuario ingresar 5 nombres y guárdelos en una lista.\n",
    "2. Muestre cuántos nombres comienzan con la letra \"A\".\n",
    "3. Cree una simulación de llenado de formulario donde se pide la edad y se valida que sea un número entre 18 y 99. Si no es válido, se repite.\n"
   ]
  }
 ],
 "metadata": {
  "kernelspec": {
   "display_name": "Python 3",
   "language": "python",
   "name": "python3"
  },
  "language_info": {
   "codemirror_mode": {
    "name": "ipython",
    "version": 3
   },
   "file_extension": ".py",
   "mimetype": "text/x-python",
   "name": "python",
   "nbconvert_exporter": "python",
   "pygments_lexer": "ipython3",
   "version": "3.13.2"
  }
 },
 "nbformat": 4,
 "nbformat_minor": 5
}
