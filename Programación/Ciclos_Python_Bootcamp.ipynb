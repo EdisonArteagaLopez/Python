{
 "cells": [
  {
   "cell_type": "markdown",
   "id": "70ef7891",
   "metadata": {},
   "source": [
    "# Ciclos en Python: Fundamentos y Aplicaciones\n",
    "\n",
    "En programación, los ciclos (también llamados bucles o *loops*) permiten ejecutar un bloque de código de forma repetitiva bajo ciertas condiciones. Son esenciales para automatizar tareas, recorrer estructuras de datos, validar formularios y desarrollar dinámicas interactivas como juegos o simulaciones.\n",
    "\n",
    "En este cuaderno exploraremos los dos tipos principales de ciclos en Python:\n",
    "\n",
    "- `for`\n",
    "- `while`\n",
    "\n",
    "Adicionalmente, estudiaremos las instrucciones `break` y `continue`, las cuales permiten controlar el flujo de los ciclos.\n",
    "\n",
    "Este cuaderno está diseñado para estudiantes con conocimientos básicos en programación. Se incluyen ejemplos prácticos y ejercicios con distintos niveles de dificultad.\n"
   ]
  },
  {
   "cell_type": "markdown",
   "id": "abe0ce6c",
   "metadata": {},
   "source": [
    "## Ciclo `for`\n",
    "\n",
    "El ciclo `for` se utiliza para recorrer elementos de una secuencia, como listas, cadenas de texto o rangos numéricos."
   ]
  },
  {
   "cell_type": "code",
   "execution_count": null,
   "id": "09af191b",
   "metadata": {},
   "outputs": [],
   "source": [
    "# Ejemplo 1: Recorrido de una lista\n",
    "nombres = [\"Ana\", \"Luis\", \"Carlos\"]\n",
    "for nombre in nombres:\n",
    "    print(\"Hola,\", nombre)"
   ]
  },
  {
   "cell_type": "code",
   "execution_count": null,
   "id": "627aad11",
   "metadata": {},
   "outputs": [],
   "source": [
    "# Ejemplo 2: Uso de range()\n",
    "for i in range(5):\n",
    "    print(\"Iteración:\", i)"
   ]
  },
  {
   "cell_type": "code",
   "execution_count": null,
   "id": "f2978f4e",
   "metadata": {},
   "outputs": [],
   "source": [
    "# Ejemplo adicional: Recorrido de una cadena\n",
    "palabra = \"Python\"\n",
    "for letra in palabra:\n",
    "    print(\"Letra:\", letra)"
   ]
  },
  {
   "cell_type": "markdown",
   "id": "c39fe405",
   "metadata": {},
   "source": [
    "## Ciclo `while`\n",
    "\n",
    "El ciclo `while` repite un bloque de código mientras una condición se mantenga verdadera."
   ]
  },
  {
   "cell_type": "code",
   "execution_count": null,
   "id": "90136841",
   "metadata": {},
   "outputs": [],
   "source": [
    "# Ejemplo 3: Contador con while\n",
    "contador = 0\n",
    "while contador < 5:\n",
    "    print(\"Contador:\", contador)\n",
    "    contador += 1"
   ]
  },
  {
   "cell_type": "code",
   "execution_count": null,
   "id": "46da6e27",
   "metadata": {},
   "outputs": [],
   "source": [
    "# Ejemplo 4: Validación de entrada\n",
    "respuesta = \"\"\n",
    "while respuesta != \"sí\":\n",
    "    respuesta = input(\"¿Desea continuar? (sí/no): \").lower()\n",
    "print(\"Gracias por confirmar.\")"
   ]
  },
  {
   "cell_type": "code",
   "execution_count": null,
   "id": "f4940fa0",
   "metadata": {},
   "outputs": [],
   "source": [
    "# Ejemplo adicional: Contador descendente\n",
    "numero = 5\n",
    "while numero > 0:\n",
    "    print(\"Cuenta regresiva:\", numero)\n",
    "    numero -= 1"
   ]
  },
  {
   "cell_type": "markdown",
   "id": "6e36c910",
   "metadata": {},
   "source": [
    "## Instrucciones `break` y `continue`\n",
    "\n",
    "Estas instrucciones permiten modificar el flujo de un ciclo:"
   ]
  },
  {
   "cell_type": "code",
   "execution_count": null,
   "id": "270e5f6a",
   "metadata": {},
   "outputs": [],
   "source": [
    "# Ejemplo 5: Uso de break\n",
    "for numero in range(10):\n",
    "    if numero == 5:\n",
    "        break\n",
    "    print(\"Número:\", numero)"
   ]
  },
  {
   "cell_type": "code",
   "execution_count": null,
   "id": "78de9e9d",
   "metadata": {},
   "outputs": [],
   "source": [
    "# Ejemplo 6: Uso de continue\n",
    "for numero in range(5):\n",
    "    if numero == 2:\n",
    "        continue\n",
    "    print(\"Número:\", numero)"
   ]
  },
  {
   "cell_type": "code",
   "execution_count": null,
   "id": "fd56fc91",
   "metadata": {},
   "outputs": [],
   "source": [
    "# Ejemplo adicional: Uso de break en un ciclo while\n",
    "intentos = 0\n",
    "while True:\n",
    "    clave = input(\"Ingrese la clave secreta: \")\n",
    "    intentos += 1\n",
    "    if clave == \"python123\":\n",
    "        print(\"Acceso concedido\")\n",
    "        break\n",
    "    elif intentos >= 3:\n",
    "        print(\"Demasiados intentos\")\n",
    "        break"
   ]
  },
  {
   "cell_type": "markdown",
   "id": "828edeae",
   "metadata": {},
   "source": [
    "## Ejercicios de práctica\n",
    "\n",
    "A continuación, se presentan ejercicios para aplicar los conceptos aprendidos. Es recomendable resolverlos individualmente o en parejas.\n"
   ]
  },
  {
   "cell_type": "code",
   "execution_count": null,
   "id": "bdad4bac",
   "metadata": {},
   "outputs": [],
   "source": [
    "# Ejercicio 1 (Básico):\n",
    "# Imprima los números del 1 al 10 usando un ciclo for."
   ]
  },
  {
   "cell_type": "code",
   "execution_count": null,
   "id": "cad85408",
   "metadata": {},
   "outputs": [],
   "source": [
    "# Ejercicio 2 (Intermedio):\n",
    "# Simule un formulario que solicite al usuario una contraseña hasta que introduzca la correcta (\"python123\")."
   ]
  },
  {
   "cell_type": "code",
   "execution_count": null,
   "id": "9c045915",
   "metadata": {},
   "outputs": [],
   "source": [
    "# Ejercicio 3 (Intermedio):\n",
    "# Dado un rango de 1 a 20, imprima solamente los números impares."
   ]
  },
  {
   "cell_type": "code",
   "execution_count": null,
   "id": "2215ebef",
   "metadata": {},
   "outputs": [],
   "source": [
    "# Ejercicio 4 (Desafío tipo juego):\n",
    "# Juego: Adivina el número.\n",
    "import random\n",
    "\n",
    "numero_secreto = random.randint(1, 10)\n",
    "intento = 0\n",
    "adivinanza = -1\n",
    "\n",
    "while adivinanza != numero_secreto:\n",
    "    adivinanza = int(input(\"Adivina el número (entre 1 y 10): \"))\n",
    "    intento += 1\n",
    "    if adivinanza < numero_secreto:\n",
    "        print(\"Muy bajo.\")\n",
    "    elif adivinanza > numero_secreto:\n",
    "        print(\"Muy alto.\")\n",
    "\n",
    "print(f\"¡Correcto! Lo lograste en {intento} intentos.\")"
   ]
  },
  {
   "cell_type": "markdown",
   "id": "ff694823",
   "metadata": {},
   "source": [
    "## Evaluación práctica\n",
    "\n",
    "Complete los siguientes ejercicios sin ejemplos previos. Puede usar cualquier tipo de ciclo.\n",
    "\n",
    "1. Solicite al usuario ingresar 5 nombres y guárdelos en una lista.\n",
    "2. Muestre cuántos nombres comienzan con la letra \"A\".\n",
    "3. Cree una simulación de llenado de formulario donde se pide la edad y se valida que sea un número entre 18 y 99. Si no es válido, se repite.\n"
   ]
  },
  {
   "cell_type": "markdown",
   "id": "2e281f6c",
   "metadata": {},
   "source": [
    "## Conclusión\n",
    "\n",
    "Los ciclos son estructuras fundamentales en cualquier lenguaje de programación. Dominar su uso permite automatizar tareas, crear programas más eficientes y resolver problemas de forma estructurada.\n",
    "\n",
    "### Recursos recomendados:\n",
    "- [Documentación oficial de Python sobre ciclos](https://docs.python.org/3/tutorial/controlflow.html#for-statements)\n",
    "- [Ejercicios interactivos en W3Schools](https://www.w3schools.com/python/python_for_loops.asp)\n",
    "- [Curso gratuito en Python de FreeCodeCamp (YouTube)](https://www.youtube.com/watch?v=rfscVS0vtbw)\n",
    "\n",
    "Recuerde practicar con diferentes tipos de datos y escenarios reales como validaciones de entrada, juegos interactivos, simulaciones y procesamientos de listas.\n"
   ]
  }
 ],
 "metadata": {},
 "nbformat": 4,
 "nbformat_minor": 5
}
